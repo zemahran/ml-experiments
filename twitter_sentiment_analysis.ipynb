{
  "nbformat": 4,
  "nbformat_minor": 0,
  "metadata": {
    "colab": {
      "name": "sentiment_analysis.ipynb",
      "version": "0.3.2",
      "provenance": [],
      "collapsed_sections": []
    },
    "kernelspec": {
      "display_name": "Python 3",
      "language": "python",
      "name": "python3"
    }
  },
  "cells": [
    {
      "metadata": {
        "id": "lMkORQ-D2IP9",
        "colab_type": "code",
        "colab": {}
      },
      "cell_type": "code",
      "source": [
        "from nltk import word_tokenize\n",
        "from sklearn.feature_extraction.text import CountVectorizer\n",
        "from sklearn import metrics\n",
        "import pandas as pd"
      ],
      "execution_count": 0,
      "outputs": []
    },
    {
      "metadata": {
        "id": "vrkTKyfU2IQD",
        "colab_type": "text"
      },
      "cell_type": "markdown",
      "source": [
        "### import data from csv into a pandas dataframe\n",
        "\n",
        "Data from: https://www.kaggle.com/crowdflower/twitter-airline-sentiment"
      ]
    },
    {
      "metadata": {
        "id": "UmuZ4-ZA2IQF",
        "colab_type": "code",
        "colab": {},
        "outputId": "0994d448-26b4-4339-ad61-888e6a72c734"
      },
      "cell_type": "code",
      "source": [
        "kaggle_df = pd.read_csv('twitter-airline-sentiment/tweets.csv', header=0)\n",
        "kaggle_df.shape"
      ],
      "execution_count": 0,
      "outputs": [
        {
          "output_type": "execute_result",
          "data": {
            "text/plain": [
              "(14640, 15)"
            ]
          },
          "metadata": {
            "tags": []
          },
          "execution_count": 2
        }
      ]
    },
    {
      "metadata": {
        "id": "8W0b3EcD2IQM",
        "colab_type": "code",
        "colab": {},
        "outputId": "14be77ae-fad9-4415-96e8-01a80a887ab7"
      },
      "cell_type": "code",
      "source": [
        "stanford_df = pd.read_csv('sentiment140_stanford-dataset/test_data.csv', header=None)\n",
        "translate_polarity = lambda x: 'negative' if x == 0 else ('neutral' if x == 2 else 'positive')\n",
        "stanford_df[\"sentiment\"] = stanford_df[0]\n",
        "stanford_df[\"text\"] = stanford_df[5]\n",
        "for label, row in stanford_df.iterrows(): # translating numbers in the original csv file\n",
        "        stanford_df.loc[label, 'sentiment'] = translate_polarity(row['sentiment'])\n",
        "stanford_df.shape"
      ],
      "execution_count": 0,
      "outputs": [
        {
          "output_type": "execute_result",
          "data": {
            "text/plain": [
              "(498, 8)"
            ]
          },
          "metadata": {
            "tags": []
          },
          "execution_count": 3
        }
      ]
    },
    {
      "metadata": {
        "id": "a95BYhcG2IQR",
        "colab_type": "text"
      },
      "cell_type": "markdown",
      "source": [
        "### divide data: 80% for training and 20% for testing"
      ]
    },
    {
      "metadata": {
        "id": "Ix4EQteQ2IQT",
        "colab_type": "code",
        "colab": {},
        "outputId": "6e95c918-e6c4-488f-e2ea-cdf54b98a25e"
      },
      "cell_type": "code",
      "source": [
        "train = kaggle_df.loc[:11711,[\"text\", \"airline_sentiment\"]]\n",
        "test = kaggle_df.loc[11712:,[\"text\", \"airline_sentiment\"]]\n",
        "print(train.shape, test.shape)\n",
        "train.head()"
      ],
      "execution_count": 0,
      "outputs": [
        {
          "output_type": "stream",
          "text": [
            "(11712, 2) (2928, 2)\n"
          ],
          "name": "stdout"
        },
        {
          "output_type": "execute_result",
          "data": {
            "text/html": [
              "<div>\n",
              "<style scoped>\n",
              "    .dataframe tbody tr th:only-of-type {\n",
              "        vertical-align: middle;\n",
              "    }\n",
              "\n",
              "    .dataframe tbody tr th {\n",
              "        vertical-align: top;\n",
              "    }\n",
              "\n",
              "    .dataframe thead th {\n",
              "        text-align: right;\n",
              "    }\n",
              "</style>\n",
              "<table border=\"1\" class=\"dataframe\">\n",
              "  <thead>\n",
              "    <tr style=\"text-align: right;\">\n",
              "      <th></th>\n",
              "      <th>text</th>\n",
              "      <th>airline_sentiment</th>\n",
              "    </tr>\n",
              "  </thead>\n",
              "  <tbody>\n",
              "    <tr>\n",
              "      <th>0</th>\n",
              "      <td>@VirginAmerica What @dhepburn said.</td>\n",
              "      <td>neutral</td>\n",
              "    </tr>\n",
              "    <tr>\n",
              "      <th>1</th>\n",
              "      <td>@VirginAmerica plus you've added commercials t...</td>\n",
              "      <td>positive</td>\n",
              "    </tr>\n",
              "    <tr>\n",
              "      <th>2</th>\n",
              "      <td>@VirginAmerica I didn't today... Must mean I n...</td>\n",
              "      <td>neutral</td>\n",
              "    </tr>\n",
              "    <tr>\n",
              "      <th>3</th>\n",
              "      <td>@VirginAmerica it's really aggressive to blast...</td>\n",
              "      <td>negative</td>\n",
              "    </tr>\n",
              "    <tr>\n",
              "      <th>4</th>\n",
              "      <td>@VirginAmerica and it's a really big bad thing...</td>\n",
              "      <td>negative</td>\n",
              "    </tr>\n",
              "  </tbody>\n",
              "</table>\n",
              "</div>"
            ],
            "text/plain": [
              "                                                text airline_sentiment\n",
              "0                @VirginAmerica What @dhepburn said.           neutral\n",
              "1  @VirginAmerica plus you've added commercials t...          positive\n",
              "2  @VirginAmerica I didn't today... Must mean I n...           neutral\n",
              "3  @VirginAmerica it's really aggressive to blast...          negative\n",
              "4  @VirginAmerica and it's a really big bad thing...          negative"
            ]
          },
          "metadata": {
            "tags": []
          },
          "execution_count": 4
        }
      ]
    },
    {
      "metadata": {
        "id": "lGbCd5ah2IQY",
        "colab_type": "code",
        "colab": {},
        "outputId": "d0593213-f7ab-425d-f8db-9e01a52741a9"
      },
      "cell_type": "code",
      "source": [
        "stanford_test = stanford_df.loc[:,[\"text\", \"sentiment\"]]\n",
        "print(stanford_test.shape)\n",
        "stanford_test.head()"
      ],
      "execution_count": 0,
      "outputs": [
        {
          "output_type": "stream",
          "text": [
            "(498, 2)\n"
          ],
          "name": "stdout"
        },
        {
          "output_type": "execute_result",
          "data": {
            "text/html": [
              "<div>\n",
              "<style scoped>\n",
              "    .dataframe tbody tr th:only-of-type {\n",
              "        vertical-align: middle;\n",
              "    }\n",
              "\n",
              "    .dataframe tbody tr th {\n",
              "        vertical-align: top;\n",
              "    }\n",
              "\n",
              "    .dataframe thead th {\n",
              "        text-align: right;\n",
              "    }\n",
              "</style>\n",
              "<table border=\"1\" class=\"dataframe\">\n",
              "  <thead>\n",
              "    <tr style=\"text-align: right;\">\n",
              "      <th></th>\n",
              "      <th>text</th>\n",
              "      <th>sentiment</th>\n",
              "    </tr>\n",
              "  </thead>\n",
              "  <tbody>\n",
              "    <tr>\n",
              "      <th>0</th>\n",
              "      <td>@stellargirl I loooooooovvvvvveee my Kindle2. ...</td>\n",
              "      <td>positive</td>\n",
              "    </tr>\n",
              "    <tr>\n",
              "      <th>1</th>\n",
              "      <td>Reading my kindle2...  Love it... Lee childs i...</td>\n",
              "      <td>positive</td>\n",
              "    </tr>\n",
              "    <tr>\n",
              "      <th>2</th>\n",
              "      <td>Ok, first assesment of the #kindle2 ...it fuck...</td>\n",
              "      <td>positive</td>\n",
              "    </tr>\n",
              "    <tr>\n",
              "      <th>3</th>\n",
              "      <td>@kenburbary You'll love your Kindle2. I've had...</td>\n",
              "      <td>positive</td>\n",
              "    </tr>\n",
              "    <tr>\n",
              "      <th>4</th>\n",
              "      <td>@mikefish  Fair enough. But i have the Kindle2...</td>\n",
              "      <td>positive</td>\n",
              "    </tr>\n",
              "  </tbody>\n",
              "</table>\n",
              "</div>"
            ],
            "text/plain": [
              "                                                text sentiment\n",
              "0  @stellargirl I loooooooovvvvvveee my Kindle2. ...  positive\n",
              "1  Reading my kindle2...  Love it... Lee childs i...  positive\n",
              "2  Ok, first assesment of the #kindle2 ...it fuck...  positive\n",
              "3  @kenburbary You'll love your Kindle2. I've had...  positive\n",
              "4  @mikefish  Fair enough. But i have the Kindle2...  positive"
            ]
          },
          "metadata": {
            "tags": []
          },
          "execution_count": 5
        }
      ]
    },
    {
      "metadata": {
        "id": "bVr3Qwdi2IQd",
        "colab_type": "text"
      },
      "cell_type": "markdown",
      "source": [
        "### create a list of punctuation symbols and stop words"
      ]
    },
    {
      "metadata": {
        "id": "gb86djJ42IQf",
        "colab_type": "code",
        "colab": {}
      },
      "cell_type": "code",
      "source": [
        "import string\n",
        "from nltk.corpus import stopwords\n",
        "english_stops = stopwords.words('english')\n",
        "english_stops += list(string.punctuation)\n",
        "english_stops += ['``', \"''\", \"'s\",'’',\"n't\",\\\n",
        "                  '“','”',\"'re\",\"'ve\",\"'m\",\\\n",
        "                  \"'d\",\"'ll\",\"http\",\"https\",\\\n",
        "                  '...','w/','w/o',\"--\",\"I\"]"
      ],
      "execution_count": 0,
      "outputs": []
    },
    {
      "metadata": {
        "id": "__DQ0fju2IQj",
        "colab_type": "text"
      },
      "cell_type": "markdown",
      "source": [
        "### clean data by passing the prospective dataframe"
      ]
    },
    {
      "metadata": {
        "id": "tpY0WqRf2IQk",
        "colab_type": "code",
        "colab": {}
      },
      "cell_type": "code",
      "source": [
        "def clean_data(df):\n",
        "    \n",
        "    clean_tweets = []\n",
        "    clean_words = []\n",
        "    \n",
        "    for label, row in df.iterrows():\n",
        "        words = word_tokenize(row['text'])\n",
        "        clean_words = []\n",
        "        \n",
        "        if \"RT @\" in row['text'] or len(row['text']) < 20: # filtering tweets: removing retweets & short tweets\n",
        "            df.drop([label], inplace=True)\n",
        "            continue\n",
        "        else:\n",
        "            for idx, word in enumerate(words):\n",
        "                if word in english_stops:\n",
        "                    if word == ('@'): \n",
        "                        words.pop(idx+1) # remove all usernames\n",
        "                    elif word == ('http') or word == ('https'):\n",
        "                        words.pop(idx+2) # remove all urls\n",
        "                    continue\n",
        "                clean_words.append(word)\n",
        "                \n",
        "        clean_tweets.append(' '.join(clean_words))\n",
        "        \n",
        "    return clean_tweets"
      ],
      "execution_count": 0,
      "outputs": []
    },
    {
      "metadata": {
        "id": "SfRpWJgm2IQn",
        "colab_type": "text"
      },
      "cell_type": "markdown",
      "source": [
        "### clean, fit and transform training tweets"
      ]
    },
    {
      "metadata": {
        "id": "Qr5yZf4I2IQp",
        "colab_type": "code",
        "colab": {},
        "outputId": "417bfb7f-8c9f-413b-b7ce-87ea2ba48975"
      },
      "cell_type": "code",
      "source": [
        "clean_training_tweets = clean_data(train)\n",
        "vectorizer = CountVectorizer(analyzer=\"word\")\n",
        "features = vectorizer.fit_transform(clean_training_tweets)\n",
        "features.shape"
      ],
      "execution_count": 0,
      "outputs": [
        {
          "output_type": "execute_result",
          "data": {
            "text/plain": [
              "(11500, 11613)"
            ]
          },
          "metadata": {
            "tags": []
          },
          "execution_count": 8
        }
      ]
    },
    {
      "metadata": {
        "id": "TLuSHMdt2IQu",
        "colab_type": "text"
      },
      "cell_type": "markdown",
      "source": [
        "### clean test tweets then transform them using the same vectorizer"
      ]
    },
    {
      "metadata": {
        "id": "o590_UT42IQv",
        "colab_type": "code",
        "colab": {},
        "outputId": "d1f8a31b-c997-4628-b36c-cef8059244f1"
      },
      "cell_type": "code",
      "source": [
        "clean_test_tweets = clean_data(test) # the clean tweets of the first dataset\n",
        "test_features = vectorizer.transform(clean_test_tweets)\n",
        "test_features.shape"
      ],
      "execution_count": 0,
      "outputs": [
        {
          "output_type": "execute_result",
          "data": {
            "text/plain": [
              "(2910, 11613)"
            ]
          },
          "metadata": {
            "tags": []
          },
          "execution_count": 9
        }
      ]
    },
    {
      "metadata": {
        "id": "UFUlcMjY2IQ0",
        "colab_type": "code",
        "colab": {},
        "outputId": "eefe9c95-cb8a-4488-de46-d2bcc7c3c5b8"
      },
      "cell_type": "code",
      "source": [
        "stanford_tweets = clean_data(stanford_test) # the clean tweets of the second dataset\n",
        "stanford_features = vectorizer.transform(stanford_tweets)\n",
        "stanford_features.shape"
      ],
      "execution_count": 0,
      "outputs": [
        {
          "output_type": "execute_result",
          "data": {
            "text/plain": [
              "(475, 11613)"
            ]
          },
          "metadata": {
            "tags": []
          },
          "execution_count": 10
        }
      ]
    },
    {
      "metadata": {
        "id": "hTmUsg6i2IQ6",
        "colab_type": "text"
      },
      "cell_type": "markdown",
      "source": [
        "### train using random forest"
      ]
    },
    {
      "metadata": {
        "id": "-ZXjfYjS2IQ8",
        "colab_type": "code",
        "colab": {}
      },
      "cell_type": "code",
      "source": [
        "from sklearn.ensemble import RandomForestClassifier\n",
        "random_forest = RandomForestClassifier(n_estimators=100, random_state=0)\n",
        "random_forest = random_forest.fit(features, train[\"airline_sentiment\"])"
      ],
      "execution_count": 0,
      "outputs": []
    },
    {
      "metadata": {
        "id": "LcE-Vqtm2IRA",
        "colab_type": "text"
      },
      "cell_type": "markdown",
      "source": [
        "### predict using random forest"
      ]
    },
    {
      "metadata": {
        "id": "kZMoA0rc2IRC",
        "colab_type": "code",
        "colab": {},
        "outputId": "d0c5494b-cac4-40a3-f449-103adcc38139"
      },
      "cell_type": "code",
      "source": [
        "rf_predictions = random_forest.predict(test_features)\n",
        "rf_df = pd.DataFrame(data={\"text\":test[\"text\"], \"sentiment\":rf_predictions})\n",
        "rf_df.to_csv('rf_results.csv', index=False)\n",
        "\n",
        "print('Accuracy on the 1st dataset: %0.2f' % (metrics.f1_score(test[\"airline_sentiment\"], rf_predictions, average='micro')))"
      ],
      "execution_count": 0,
      "outputs": [
        {
          "output_type": "stream",
          "text": [
            "Accuracy on the 1st dataset: 0.80\n"
          ],
          "name": "stdout"
        }
      ]
    },
    {
      "metadata": {
        "id": "CeAdUiv82IRJ",
        "colab_type": "code",
        "colab": {},
        "outputId": "25f9e7d0-5324-40e8-885c-ceed488d6274"
      },
      "cell_type": "code",
      "source": [
        "stanford_rf_predictions = random_forest.predict(stanford_features)\n",
        "stanford_rf_df = pd.DataFrame(data={\"text\":stanford_test[\"text\"], \"sentiment\":stanford_rf_predictions})\n",
        "stanford_rf_df.to_csv('stanford_rf_results.csv', index=False)\n",
        "\n",
        "print('Accuracy on the 2st dataset: %0.2f' % (metrics.f1_score(stanford_test[\"sentiment\"], stanford_rf_predictions, average='micro')))"
      ],
      "execution_count": 0,
      "outputs": [
        {
          "output_type": "stream",
          "text": [
            "Accuracy on the 2st dataset: 0.54\n"
          ],
          "name": "stdout"
        }
      ]
    },
    {
      "metadata": {
        "id": "OTCMCAND2IRS",
        "colab_type": "text"
      },
      "cell_type": "markdown",
      "source": [
        "### train using naive-bayes"
      ]
    },
    {
      "metadata": {
        "id": "7qmpTjU_2IRU",
        "colab_type": "code",
        "colab": {}
      },
      "cell_type": "code",
      "source": [
        "from sklearn.naive_bayes import MultinomialNB\n",
        "naive_bayes = MultinomialNB(alpha=1)\n",
        "naive_bayes = naive_bayes.fit(features, train[\"airline_sentiment\"])"
      ],
      "execution_count": 0,
      "outputs": []
    },
    {
      "metadata": {
        "id": "bhigCUW92IRb",
        "colab_type": "text"
      },
      "cell_type": "markdown",
      "source": [
        "### predict using naive-bayes"
      ]
    },
    {
      "metadata": {
        "id": "kC29svy52IRc",
        "colab_type": "code",
        "colab": {},
        "outputId": "7c1357fa-0cfa-4218-ad68-0f25c65ea657"
      },
      "cell_type": "code",
      "source": [
        "nb_predictions = naive_bayes.predict(test_features)\n",
        "nb_df = pd.DataFrame(data={\"text\":test[\"text\"], \"sentiment\":nb_predictions})\n",
        "nb_df.to_csv('nb_results.csv', index=False)\n",
        "\n",
        "print('Accuracy on the 1st dataset: %0.2f' % (metrics.f1_score(test[\"airline_sentiment\"], nb_predictions, average='micro')))"
      ],
      "execution_count": 0,
      "outputs": [
        {
          "output_type": "stream",
          "text": [
            "Accuracy on the 1st dataset: 0.80\n"
          ],
          "name": "stdout"
        }
      ]
    },
    {
      "metadata": {
        "id": "zyk6SSBA2IRi",
        "colab_type": "code",
        "colab": {},
        "outputId": "80685142-0776-4e56-c2ca-f2a87995afee"
      },
      "cell_type": "code",
      "source": [
        "stanford_nb_predictions = naive_bayes.predict(stanford_features)\n",
        "stanford_nb_df = pd.DataFrame(data={\"text\":stanford_test[\"text\"], \"sentiment\":stanford_nb_predictions})\n",
        "stanford_nb_df.to_csv('stanford_nb_results.csv', index=False)\n",
        "\n",
        "print('Accuracy on the 2st dataset: %0.2f' % (metrics.f1_score(stanford_test[\"sentiment\"], stanford_nb_predictions, average='micro')))"
      ],
      "execution_count": 0,
      "outputs": [
        {
          "output_type": "stream",
          "text": [
            "Accuracy on the 2st dataset: 0.56\n"
          ],
          "name": "stdout"
        }
      ]
    },
    {
      "metadata": {
        "id": "x7jsGLYK2IRm",
        "colab_type": "text"
      },
      "cell_type": "markdown",
      "source": [
        "### train using k-nearest neighbour"
      ]
    },
    {
      "metadata": {
        "id": "8KRS-XrC2IRn",
        "colab_type": "code",
        "colab": {}
      },
      "cell_type": "code",
      "source": [
        "from sklearn.neighbors import KNeighborsClassifier\n",
        "knn = KNeighborsClassifier(n_neighbors=3)\n",
        "knn = knn.fit(features, train[\"airline_sentiment\"])"
      ],
      "execution_count": 0,
      "outputs": []
    },
    {
      "metadata": {
        "id": "bJ_VXMeY2IRq",
        "colab_type": "text"
      },
      "cell_type": "markdown",
      "source": [
        "### predict using k-nearest neighbour"
      ]
    },
    {
      "metadata": {
        "id": "hiUVLrlf2IRr",
        "colab_type": "code",
        "colab": {},
        "outputId": "51b54536-c586-4bf5-9d67-c19f2e61f3f7"
      },
      "cell_type": "code",
      "source": [
        "knn_predictions = knn.predict(test_features)\n",
        "knn_df = pd.DataFrame(data={\"text\":test[\"text\"], \"sentiment\":knn_predictions})\n",
        "knn_df.to_csv('knn_results.csv', index=False)\n",
        "\n",
        "print('Accuracy on the 1st dataset: %0.2f' % (metrics.f1_score(test[\"airline_sentiment\"], knn_predictions, average='micro')))"
      ],
      "execution_count": 0,
      "outputs": [
        {
          "output_type": "stream",
          "text": [
            "Accuracy on the 1st dataset: 0.60\n"
          ],
          "name": "stdout"
        }
      ]
    },
    {
      "metadata": {
        "id": "ETXsYEdZ2IRv",
        "colab_type": "code",
        "colab": {},
        "outputId": "1b19345e-0e65-4e11-8485-505ae6b7d7a2"
      },
      "cell_type": "code",
      "source": [
        "stanford_knn_predictions = knn.predict(stanford_features)\n",
        "stanford_knn_df = pd.DataFrame(data={\"text\":stanford_test[\"text\"], \"sentiment\":stanford_knn_predictions})\n",
        "stanford_knn_df.to_csv('stanford_knn_results.csv', index=False)\n",
        "\n",
        "print('Accuracy on the 2st dataset: %0.2f' % (metrics.f1_score(stanford_test[\"sentiment\"], stanford_knn_predictions, average='micro')))"
      ],
      "execution_count": 0,
      "outputs": [
        {
          "output_type": "stream",
          "text": [
            "Accuracy on the 2st dataset: 0.44\n"
          ],
          "name": "stdout"
        }
      ]
    }
  ]
}